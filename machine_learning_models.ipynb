{
  "nbformat": 4,
  "nbformat_minor": 0,
  "metadata": {
    "colab": {
      "provenance": [],
      "mount_file_id": "1w_tf78yKnhHeW8dUdy1QUPKwLvNtsjvK",
      "authorship_tag": "ABX9TyMK4Hdn93hProDtpesByw9z",
      "include_colab_link": true
    },
    "kernelspec": {
      "name": "python3",
      "display_name": "Python 3"
    },
    "language_info": {
      "name": "python"
    }
  },
  "cells": [
    {
      "cell_type": "markdown",
      "metadata": {
        "id": "view-in-github",
        "colab_type": "text"
      },
      "source": [
        "<a href=\"https://colab.research.google.com/github/Ekissi/Ekissi/blob/main/machine_learning_models.ipynb\" target=\"_parent\"><img src=\"https://colab.research.google.com/assets/colab-badge.svg\" alt=\"Open In Colab\"/></a>"
      ]
    },
    {
      "cell_type": "markdown",
      "source": [
        "## **SUPPORT VECTOR REGESSION MODEL**"
      ],
      "metadata": {
        "id": "S_SBC6LWu4xO"
      }
    },
    {
      "cell_type": "code",
      "execution_count": null,
      "metadata": {
        "id": "QZYAGuxLubuM"
      },
      "outputs": [],
      "source": [
        "# @title Hyperparameters reseach with GridSearchCV\n",
        "import pandas as pd\n",
        "import numpy as np\n",
        "from sklearn.preprocessing import StandardScaler\n",
        "from sklearn import linear_model\n",
        "from sklearn.svm import SVR\n",
        "from sklearn.model_selection import GridSearchCV\n",
        "from sklearn.metrics import r2_score\n",
        "from sklearn.metrics import mean_squared_error\n",
        "from math import sqrt\n",
        "import statistics\n",
        "from sklearn.model_selection import train_test_split\n",
        "from sklearn.decomposition import PCA\n",
        "from sklearn.pipeline import make_pipeline\n",
        "\n",
        "Dataset=pd.read_excel('features_selected_ok.xlsx')\n",
        "features=Dataset[['Erg','Eyb','Ecb','Ecr','Ea','Eb','Ehl','Etrg','Etyb','Etcb','Etcr','Eta','Etb','Ethl']]\n",
        "label=Y=Dataset['MC']\n",
        "scalertr = StandardScaler().fit(features)\n",
        "features = scalertr.transform(features)\n",
        "indx_test = [2,7,16,21,24,30,36,40,46,50,55,61,66,72,78,\n",
        "        84,87,92,96,101,106,111,117,122,127,132,136,\n",
        "        140,143,146,151,158,164,169,173,180,181,187,194,200,203,207]\n",
        "y_test=label[indx_test]\n",
        "y_train = label.drop(y_test.index)\n",
        "x_test = features[indx_test]\n",
        "indx_label = label.index\n",
        "indx_train = indx_label.drop(indx_test)\n",
        "x_train = features[indx_train]\n",
        "x_train\n",
        "\n",
        "pca = PCA(n_components=8)  # Choose number of components\n",
        "X_train_pca = pca.fit_transform(x_train)\n",
        "\n",
        "# Tuning of parameters for regression by cross-validation\n",
        "K = 10               # Number of cross valiations\n",
        "\n",
        "# Parameters for tuning\n",
        "parameters = [{'kernel': ['rbf'], 'gamma': [0.05,0.055, 0.062, 0.072, 0.083, 0.1, 0.12,0.17,0.25,0.5],'C': [1, 10, 100, 1000, 10000]}]\n",
        "print(\"Tuning hyper-parameters\")\n",
        "grid_search = GridSearchCV(SVR(epsilon = 0.01), parameters, cv = K)\n",
        "grid_search.fit(x_train, y_train)\n",
        "\n",
        "# Checking the score for all parameters\n",
        "print(\"Grid scores on training set:\")\n",
        "means = grid_search.cv_results_['mean_test_score']\n",
        "stds = grid_search.cv_results_['std_test_score']\n",
        "for mean, std, params in zip(means, stds, grid_search.cv_results_['params']):\n",
        "    print(\"%0.3f (+/-%0.03f) for %r\"% (mean, std * 2, params))\n",
        "\n",
        "best_params = grid_search.best_params_\n",
        "print(\"Best parameters:\", best_params)"
      ]
    },
    {
      "cell_type": "code",
      "source": [
        "# @title Model SVR\n",
        "import pandas as pd\n",
        "import numpy as np\n",
        "from sklearn.preprocessing import StandardScaler\n",
        "from sklearn.svm import SVR\n",
        "from sklearn.metrics import r2_score\n",
        "from sklearn.metrics import mean_squared_error\n",
        "from sklearn.metrics import mean_absolute_error\n",
        "from sklearn.decomposition import PCA\n",
        "Dataset=pd.read_excel('features_selected_ok.xlsx')\n",
        "features=Dataset[['Erg','Eyb','Ecb','Ecr','Ea','Eb','Ehl','Etrg','Etyb','Etcb','Etcr','Eta','Etb','Ethl']]\n",
        "label=Y=Dataset['MC']\n",
        "scalertr = StandardScaler().fit(features)\n",
        "features = scalertr.transform(features)\n",
        "\n",
        "indx_test = [2,7,16,21,24,30,36,40,46,50,55,61,66,72,78,\n",
        "        84,87,92,96,101,106,111,117,122,127,132,136,\n",
        "        140,143,146,151,158,164,169,173,180,181,187,194,200,203,207]\n",
        "y_test=label[indx_test]\n",
        "y_train = label.drop(y_test.index)\n",
        "x_test = features[indx_test]\n",
        "indx_label = label.index\n",
        "indx_train = indx_label.drop(indx_test)\n",
        "x_train = features[indx_train]\n",
        "x_train\n",
        "\n",
        "pca = PCA(n_components=8)  # Choose number of components\n",
        "x_train_pca = pca.fit_transform(x_train)\n",
        "n = 0.072\n",
        "reg1 = SVR(kernel='rbf', C=100, gamma=n ,epsilon=.01)\n",
        "model=reg1.fit(x_train_pca,y_train)\n",
        "\n",
        "#TRAINING MODEL\n",
        "y_pred = model.predict(x_train_pca)\n",
        "Rsquared_tr=r2_score(y_train,y_pred )\n",
        "mse_training=mean_squared_error(y_train,y_pred)\n",
        "mae_training = mean_absolute_error(y_train,y_pred)\n",
        "\n",
        "# MODEL TESTING\n",
        "y_test_pca = pca.transform(x_test)\n",
        "y_pred_test = model.predict(y_test_pca)\n",
        "Rsquared_tt=r2_score(y_test,y_pred_test)\n",
        "mse_test= mean_squared_error(y_test,y_pred_test)\n",
        "mae_test = mean_absolute_error(y_test,y_pred_test)\n",
        "\n",
        "print(\"TRAINING Rsquared:\",Rsquared_tr)\n",
        "print(\"TRAINING MSE:\",mse_training)\n",
        "print(\"TRAINING MAE:\",mae_training)\n",
        "print(\"TEST Rsquared:\",Rsquared_tt)\n",
        "print(\"TEST MSE:\",mse_test)\n",
        "print(\"TEST MAE:\",mae_test)"
      ],
      "metadata": {
        "colab": {
          "base_uri": "https://localhost:8080/",
          "height": 356
        },
        "id": "FLyzyYwqvE6k",
        "outputId": "ade48923-244b-4449-d06f-7248ba8e1ca0"
      },
      "execution_count": null,
      "outputs": [
        {
          "output_type": "error",
          "ename": "FileNotFoundError",
          "evalue": "[Errno 2] No such file or directory: 'features_selected_ok.xlsx'",
          "traceback": [
            "\u001b[0;31m---------------------------------------------------------------------------\u001b[0m",
            "\u001b[0;31mFileNotFoundError\u001b[0m                         Traceback (most recent call last)",
            "\u001b[0;32m<ipython-input-1-6e01526b91c8>\u001b[0m in \u001b[0;36m<cell line: 13>\u001b[0;34m()\u001b[0m\n\u001b[1;32m     11\u001b[0m \u001b[0;32mfrom\u001b[0m \u001b[0msklearn\u001b[0m\u001b[0;34m.\u001b[0m\u001b[0mdecomposition\u001b[0m \u001b[0;32mimport\u001b[0m \u001b[0mPCA\u001b[0m\u001b[0;34m\u001b[0m\u001b[0;34m\u001b[0m\u001b[0m\n\u001b[1;32m     12\u001b[0m \u001b[0;31m#from sklearn.pipeline import make_pipeline\u001b[0m\u001b[0;34m\u001b[0m\u001b[0;34m\u001b[0m\u001b[0m\n\u001b[0;32m---> 13\u001b[0;31m \u001b[0mDataset\u001b[0m\u001b[0;34m=\u001b[0m\u001b[0mpd\u001b[0m\u001b[0;34m.\u001b[0m\u001b[0mread_excel\u001b[0m\u001b[0;34m(\u001b[0m\u001b[0;34m'features_selected_ok.xlsx'\u001b[0m\u001b[0;34m)\u001b[0m\u001b[0;34m\u001b[0m\u001b[0;34m\u001b[0m\u001b[0m\n\u001b[0m\u001b[1;32m     14\u001b[0m \u001b[0mfeatures\u001b[0m\u001b[0;34m=\u001b[0m\u001b[0mDataset\u001b[0m\u001b[0;34m[\u001b[0m\u001b[0;34m[\u001b[0m\u001b[0;34m'Erg'\u001b[0m\u001b[0;34m,\u001b[0m\u001b[0;34m'Eyb'\u001b[0m\u001b[0;34m,\u001b[0m\u001b[0;34m'Ecb'\u001b[0m\u001b[0;34m,\u001b[0m\u001b[0;34m'Ecr'\u001b[0m\u001b[0;34m,\u001b[0m\u001b[0;34m'Ea'\u001b[0m\u001b[0;34m,\u001b[0m\u001b[0;34m'Eb'\u001b[0m\u001b[0;34m,\u001b[0m\u001b[0;34m'Ehl'\u001b[0m\u001b[0;34m,\u001b[0m\u001b[0;34m'Etrg'\u001b[0m\u001b[0;34m,\u001b[0m\u001b[0;34m'Etyb'\u001b[0m\u001b[0;34m,\u001b[0m\u001b[0;34m'Etcb'\u001b[0m\u001b[0;34m,\u001b[0m\u001b[0;34m'Etcr'\u001b[0m\u001b[0;34m,\u001b[0m\u001b[0;34m'Eta'\u001b[0m\u001b[0;34m,\u001b[0m\u001b[0;34m'Etb'\u001b[0m\u001b[0;34m,\u001b[0m\u001b[0;34m'Ethl'\u001b[0m\u001b[0;34m]\u001b[0m\u001b[0;34m]\u001b[0m\u001b[0;34m\u001b[0m\u001b[0;34m\u001b[0m\u001b[0m\n\u001b[1;32m     15\u001b[0m \u001b[0mlabel\u001b[0m\u001b[0;34m=\u001b[0m\u001b[0mY\u001b[0m\u001b[0;34m=\u001b[0m\u001b[0mDataset\u001b[0m\u001b[0;34m[\u001b[0m\u001b[0;34m'MC'\u001b[0m\u001b[0;34m]\u001b[0m\u001b[0;34m\u001b[0m\u001b[0;34m\u001b[0m\u001b[0m\n",
            "\u001b[0;32m/usr/local/lib/python3.10/dist-packages/pandas/io/excel/_base.py\u001b[0m in \u001b[0;36mread_excel\u001b[0;34m(io, sheet_name, header, names, index_col, usecols, dtype, engine, converters, true_values, false_values, skiprows, nrows, na_values, keep_default_na, na_filter, verbose, parse_dates, date_parser, date_format, thousands, decimal, comment, skipfooter, storage_options, dtype_backend)\u001b[0m\n\u001b[1;32m    476\u001b[0m     \u001b[0;32mif\u001b[0m \u001b[0;32mnot\u001b[0m \u001b[0misinstance\u001b[0m\u001b[0;34m(\u001b[0m\u001b[0mio\u001b[0m\u001b[0;34m,\u001b[0m \u001b[0mExcelFile\u001b[0m\u001b[0;34m)\u001b[0m\u001b[0;34m:\u001b[0m\u001b[0;34m\u001b[0m\u001b[0;34m\u001b[0m\u001b[0m\n\u001b[1;32m    477\u001b[0m         \u001b[0mshould_close\u001b[0m \u001b[0;34m=\u001b[0m \u001b[0;32mTrue\u001b[0m\u001b[0;34m\u001b[0m\u001b[0;34m\u001b[0m\u001b[0m\n\u001b[0;32m--> 478\u001b[0;31m         \u001b[0mio\u001b[0m \u001b[0;34m=\u001b[0m \u001b[0mExcelFile\u001b[0m\u001b[0;34m(\u001b[0m\u001b[0mio\u001b[0m\u001b[0;34m,\u001b[0m \u001b[0mstorage_options\u001b[0m\u001b[0;34m=\u001b[0m\u001b[0mstorage_options\u001b[0m\u001b[0;34m,\u001b[0m \u001b[0mengine\u001b[0m\u001b[0;34m=\u001b[0m\u001b[0mengine\u001b[0m\u001b[0;34m)\u001b[0m\u001b[0;34m\u001b[0m\u001b[0;34m\u001b[0m\u001b[0m\n\u001b[0m\u001b[1;32m    479\u001b[0m     \u001b[0;32melif\u001b[0m \u001b[0mengine\u001b[0m \u001b[0;32mand\u001b[0m \u001b[0mengine\u001b[0m \u001b[0;34m!=\u001b[0m \u001b[0mio\u001b[0m\u001b[0;34m.\u001b[0m\u001b[0mengine\u001b[0m\u001b[0;34m:\u001b[0m\u001b[0;34m\u001b[0m\u001b[0;34m\u001b[0m\u001b[0m\n\u001b[1;32m    480\u001b[0m         raise ValueError(\n",
            "\u001b[0;32m/usr/local/lib/python3.10/dist-packages/pandas/io/excel/_base.py\u001b[0m in \u001b[0;36m__init__\u001b[0;34m(self, path_or_buffer, engine, storage_options)\u001b[0m\n\u001b[1;32m   1494\u001b[0m                 \u001b[0mext\u001b[0m \u001b[0;34m=\u001b[0m \u001b[0;34m\"xls\"\u001b[0m\u001b[0;34m\u001b[0m\u001b[0;34m\u001b[0m\u001b[0m\n\u001b[1;32m   1495\u001b[0m             \u001b[0;32melse\u001b[0m\u001b[0;34m:\u001b[0m\u001b[0;34m\u001b[0m\u001b[0;34m\u001b[0m\u001b[0m\n\u001b[0;32m-> 1496\u001b[0;31m                 ext = inspect_excel_format(\n\u001b[0m\u001b[1;32m   1497\u001b[0m                     \u001b[0mcontent_or_path\u001b[0m\u001b[0;34m=\u001b[0m\u001b[0mpath_or_buffer\u001b[0m\u001b[0;34m,\u001b[0m \u001b[0mstorage_options\u001b[0m\u001b[0;34m=\u001b[0m\u001b[0mstorage_options\u001b[0m\u001b[0;34m\u001b[0m\u001b[0;34m\u001b[0m\u001b[0m\n\u001b[1;32m   1498\u001b[0m                 )\n",
            "\u001b[0;32m/usr/local/lib/python3.10/dist-packages/pandas/io/excel/_base.py\u001b[0m in \u001b[0;36minspect_excel_format\u001b[0;34m(content_or_path, storage_options)\u001b[0m\n\u001b[1;32m   1369\u001b[0m         \u001b[0mcontent_or_path\u001b[0m \u001b[0;34m=\u001b[0m \u001b[0mBytesIO\u001b[0m\u001b[0;34m(\u001b[0m\u001b[0mcontent_or_path\u001b[0m\u001b[0;34m)\u001b[0m\u001b[0;34m\u001b[0m\u001b[0;34m\u001b[0m\u001b[0m\n\u001b[1;32m   1370\u001b[0m \u001b[0;34m\u001b[0m\u001b[0m\n\u001b[0;32m-> 1371\u001b[0;31m     with get_handle(\n\u001b[0m\u001b[1;32m   1372\u001b[0m         \u001b[0mcontent_or_path\u001b[0m\u001b[0;34m,\u001b[0m \u001b[0;34m\"rb\"\u001b[0m\u001b[0;34m,\u001b[0m \u001b[0mstorage_options\u001b[0m\u001b[0;34m=\u001b[0m\u001b[0mstorage_options\u001b[0m\u001b[0;34m,\u001b[0m \u001b[0mis_text\u001b[0m\u001b[0;34m=\u001b[0m\u001b[0;32mFalse\u001b[0m\u001b[0;34m\u001b[0m\u001b[0;34m\u001b[0m\u001b[0m\n\u001b[1;32m   1373\u001b[0m     ) as handle:\n",
            "\u001b[0;32m/usr/local/lib/python3.10/dist-packages/pandas/io/common.py\u001b[0m in \u001b[0;36mget_handle\u001b[0;34m(path_or_buf, mode, encoding, compression, memory_map, is_text, errors, storage_options)\u001b[0m\n\u001b[1;32m    866\u001b[0m         \u001b[0;32melse\u001b[0m\u001b[0;34m:\u001b[0m\u001b[0;34m\u001b[0m\u001b[0;34m\u001b[0m\u001b[0m\n\u001b[1;32m    867\u001b[0m             \u001b[0;31m# Binary mode\u001b[0m\u001b[0;34m\u001b[0m\u001b[0;34m\u001b[0m\u001b[0m\n\u001b[0;32m--> 868\u001b[0;31m             \u001b[0mhandle\u001b[0m \u001b[0;34m=\u001b[0m \u001b[0mopen\u001b[0m\u001b[0;34m(\u001b[0m\u001b[0mhandle\u001b[0m\u001b[0;34m,\u001b[0m \u001b[0mioargs\u001b[0m\u001b[0;34m.\u001b[0m\u001b[0mmode\u001b[0m\u001b[0;34m)\u001b[0m\u001b[0;34m\u001b[0m\u001b[0;34m\u001b[0m\u001b[0m\n\u001b[0m\u001b[1;32m    869\u001b[0m         \u001b[0mhandles\u001b[0m\u001b[0;34m.\u001b[0m\u001b[0mappend\u001b[0m\u001b[0;34m(\u001b[0m\u001b[0mhandle\u001b[0m\u001b[0;34m)\u001b[0m\u001b[0;34m\u001b[0m\u001b[0;34m\u001b[0m\u001b[0m\n\u001b[1;32m    870\u001b[0m \u001b[0;34m\u001b[0m\u001b[0m\n",
            "\u001b[0;31mFileNotFoundError\u001b[0m: [Errno 2] No such file or directory: 'features_selected_ok.xlsx'"
          ]
        }
      ]
    },
    {
      "cell_type": "code",
      "source": [
        "# @title SVR Training plot\n",
        "import matplotlib.pyplot as plt\n",
        "plt.scatter(y_train,y_pred,color='blue',marker='.')\n",
        "plt.plot(y_train, y_train, color='red')\n",
        "plt.xlabel('True values')\n",
        "plt.ylabel('Predicted values')\n",
        "plt.title('Scatter plot of predicted vs True values')\n",
        "#plt.savefig('Scatter_plot_training_RIDGE_AP.jpg')\n",
        "#plt.show()"
      ],
      "metadata": {
        "id": "SUxhU5L-xlbI"
      },
      "execution_count": null,
      "outputs": []
    },
    {
      "cell_type": "code",
      "source": [
        "# @title SVR Testing plot\n",
        "import matplotlib.pyplot as plt\n",
        "plt.scatter(y_test,y_pred_test,color='blue',marker='.')\n",
        "plt.plot(y_test, y_test, color='red')\n",
        "plt.xlabel('True values')\n",
        "plt.ylabel('Predicted values')\n",
        "plt.title('Scatter plot of predicted vs True values')\n",
        "#plt.savefig('Scatter_plot_test_RIDGE_AP.jpg')\n",
        "#plt.show()"
      ],
      "metadata": {
        "id": "YZRsGYPcxzSF"
      },
      "execution_count": null,
      "outputs": []
    }
  ]
}